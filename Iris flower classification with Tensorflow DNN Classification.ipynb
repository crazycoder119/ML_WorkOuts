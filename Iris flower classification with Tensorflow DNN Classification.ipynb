{
 "cells": [
  {
   "cell_type": "code",
   "execution_count": 1,
   "id": "99562c14",
   "metadata": {},
   "outputs": [],
   "source": [
    "import tensorflow as tf\n",
    "\n",
    "import pandas as pd"
   ]
  },
  {
   "cell_type": "markdown",
   "id": "db1db626",
   "metadata": {},
   "source": [
    "### Dataset\n",
    "This specific dataset seperates flowers into 3 different classes of species.\n",
    "- Setosa\n",
    "- Versicolor\n",
    "- Virginica\n",
    "\n",
    "The information about each flower is the following.\n",
    "- sepal length\n",
    "- sepal width\n",
    "- petal length\n",
    "- petal width"
   ]
  },
  {
   "cell_type": "code",
   "execution_count": 2,
   "id": "d2686a76",
   "metadata": {},
   "outputs": [],
   "source": [
    "CSV_COLUMN_NAMES = ['SepalLength', 'SepalWidth', 'PetalLength', 'PetalWidth', 'Species']\n",
    "SPECIES = ['Setosa', 'Versicolor', 'Virginica']"
   ]
  },
  {
   "cell_type": "code",
   "execution_count": 3,
   "id": "7c3f7f87",
   "metadata": {},
   "outputs": [],
   "source": [
    "train_path = tf.keras.utils.get_file(\n",
    "    \"iris_training.csv\", \"https://storage.googleapis.com/download.tensorflow.org/data/iris_training.csv\")\n",
    "test_path = tf.keras.utils.get_file(\n",
    "    \"iris_test.csv\", \"https://storage.googleapis.com/download.tensorflow.org/data/iris_test.csv\")\n",
    "\n",
    "train = pd.read_csv(train_path, names=CSV_COLUMN_NAMES, header=0)\n",
    "test = pd.read_csv(test_path, names=CSV_COLUMN_NAMES, header=0)"
   ]
  },
  {
   "cell_type": "code",
   "execution_count": 4,
   "id": "a40f2676",
   "metadata": {},
   "outputs": [
    {
     "data": {
      "text/html": [
       "<div>\n",
       "<style scoped>\n",
       "    .dataframe tbody tr th:only-of-type {\n",
       "        vertical-align: middle;\n",
       "    }\n",
       "\n",
       "    .dataframe tbody tr th {\n",
       "        vertical-align: top;\n",
       "    }\n",
       "\n",
       "    .dataframe thead th {\n",
       "        text-align: right;\n",
       "    }\n",
       "</style>\n",
       "<table border=\"1\" class=\"dataframe\">\n",
       "  <thead>\n",
       "    <tr style=\"text-align: right;\">\n",
       "      <th></th>\n",
       "      <th>SepalLength</th>\n",
       "      <th>SepalWidth</th>\n",
       "      <th>PetalLength</th>\n",
       "      <th>PetalWidth</th>\n",
       "      <th>Species</th>\n",
       "    </tr>\n",
       "  </thead>\n",
       "  <tbody>\n",
       "    <tr>\n",
       "      <th>0</th>\n",
       "      <td>6.4</td>\n",
       "      <td>2.8</td>\n",
       "      <td>5.6</td>\n",
       "      <td>2.2</td>\n",
       "      <td>2</td>\n",
       "    </tr>\n",
       "    <tr>\n",
       "      <th>1</th>\n",
       "      <td>5.0</td>\n",
       "      <td>2.3</td>\n",
       "      <td>3.3</td>\n",
       "      <td>1.0</td>\n",
       "      <td>1</td>\n",
       "    </tr>\n",
       "    <tr>\n",
       "      <th>2</th>\n",
       "      <td>4.9</td>\n",
       "      <td>2.5</td>\n",
       "      <td>4.5</td>\n",
       "      <td>1.7</td>\n",
       "      <td>2</td>\n",
       "    </tr>\n",
       "    <tr>\n",
       "      <th>3</th>\n",
       "      <td>4.9</td>\n",
       "      <td>3.1</td>\n",
       "      <td>1.5</td>\n",
       "      <td>0.1</td>\n",
       "      <td>0</td>\n",
       "    </tr>\n",
       "    <tr>\n",
       "      <th>4</th>\n",
       "      <td>5.7</td>\n",
       "      <td>3.8</td>\n",
       "      <td>1.7</td>\n",
       "      <td>0.3</td>\n",
       "      <td>0</td>\n",
       "    </tr>\n",
       "  </tbody>\n",
       "</table>\n",
       "</div>"
      ],
      "text/plain": [
       "   SepalLength  SepalWidth  PetalLength  PetalWidth  Species\n",
       "0          6.4         2.8          5.6         2.2        2\n",
       "1          5.0         2.3          3.3         1.0        1\n",
       "2          4.9         2.5          4.5         1.7        2\n",
       "3          4.9         3.1          1.5         0.1        0\n",
       "4          5.7         3.8          1.7         0.3        0"
      ]
     },
     "execution_count": 4,
     "metadata": {},
     "output_type": "execute_result"
    }
   ],
   "source": [
    "train.head()"
   ]
  },
  {
   "cell_type": "code",
   "execution_count": 5,
   "id": "8a01eaa8",
   "metadata": {},
   "outputs": [],
   "source": [
    "train_x = train\n",
    "train_y = train_x.pop('Species')"
   ]
  },
  {
   "cell_type": "code",
   "execution_count": 6,
   "id": "2d449421",
   "metadata": {},
   "outputs": [],
   "source": [
    "test_x = test\n",
    "test_y = test_x.pop('Species')"
   ]
  },
  {
   "cell_type": "code",
   "execution_count": 7,
   "id": "c8bb437f",
   "metadata": {},
   "outputs": [
    {
     "data": {
      "text/html": [
       "<div>\n",
       "<style scoped>\n",
       "    .dataframe tbody tr th:only-of-type {\n",
       "        vertical-align: middle;\n",
       "    }\n",
       "\n",
       "    .dataframe tbody tr th {\n",
       "        vertical-align: top;\n",
       "    }\n",
       "\n",
       "    .dataframe thead th {\n",
       "        text-align: right;\n",
       "    }\n",
       "</style>\n",
       "<table border=\"1\" class=\"dataframe\">\n",
       "  <thead>\n",
       "    <tr style=\"text-align: right;\">\n",
       "      <th></th>\n",
       "      <th>SepalLength</th>\n",
       "      <th>SepalWidth</th>\n",
       "      <th>PetalLength</th>\n",
       "      <th>PetalWidth</th>\n",
       "    </tr>\n",
       "  </thead>\n",
       "  <tbody>\n",
       "    <tr>\n",
       "      <th>0</th>\n",
       "      <td>6.4</td>\n",
       "      <td>2.8</td>\n",
       "      <td>5.6</td>\n",
       "      <td>2.2</td>\n",
       "    </tr>\n",
       "    <tr>\n",
       "      <th>1</th>\n",
       "      <td>5.0</td>\n",
       "      <td>2.3</td>\n",
       "      <td>3.3</td>\n",
       "      <td>1.0</td>\n",
       "    </tr>\n",
       "    <tr>\n",
       "      <th>2</th>\n",
       "      <td>4.9</td>\n",
       "      <td>2.5</td>\n",
       "      <td>4.5</td>\n",
       "      <td>1.7</td>\n",
       "    </tr>\n",
       "    <tr>\n",
       "      <th>3</th>\n",
       "      <td>4.9</td>\n",
       "      <td>3.1</td>\n",
       "      <td>1.5</td>\n",
       "      <td>0.1</td>\n",
       "    </tr>\n",
       "    <tr>\n",
       "      <th>4</th>\n",
       "      <td>5.7</td>\n",
       "      <td>3.8</td>\n",
       "      <td>1.7</td>\n",
       "      <td>0.3</td>\n",
       "    </tr>\n",
       "  </tbody>\n",
       "</table>\n",
       "</div>"
      ],
      "text/plain": [
       "   SepalLength  SepalWidth  PetalLength  PetalWidth\n",
       "0          6.4         2.8          5.6         2.2\n",
       "1          5.0         2.3          3.3         1.0\n",
       "2          4.9         2.5          4.5         1.7\n",
       "3          4.9         3.1          1.5         0.1\n",
       "4          5.7         3.8          1.7         0.3"
      ]
     },
     "execution_count": 7,
     "metadata": {},
     "output_type": "execute_result"
    }
   ],
   "source": [
    "train_x.head()"
   ]
  },
  {
   "cell_type": "code",
   "execution_count": 8,
   "id": "279791d7",
   "metadata": {},
   "outputs": [
    {
     "data": {
      "text/plain": [
       "0    2\n",
       "1    1\n",
       "2    2\n",
       "3    0\n",
       "4    0\n",
       "Name: Species, dtype: int64"
      ]
     },
     "execution_count": 8,
     "metadata": {},
     "output_type": "execute_result"
    }
   ],
   "source": [
    "train_y.head()"
   ]
  },
  {
   "cell_type": "code",
   "execution_count": 9,
   "id": "475fefa2",
   "metadata": {},
   "outputs": [
    {
     "data": {
      "text/plain": [
       "(120, 4)"
      ]
     },
     "execution_count": 9,
     "metadata": {},
     "output_type": "execute_result"
    }
   ],
   "source": [
    "train_x.shape"
   ]
  },
  {
   "cell_type": "markdown",
   "id": "62479a84",
   "metadata": {},
   "source": [
    "### Input function"
   ]
  },
  {
   "cell_type": "code",
   "execution_count": 10,
   "id": "42df00cd",
   "metadata": {},
   "outputs": [],
   "source": [
    "def input_fn(features, labels, training=True, batch_size=256):\n",
    "    # Convert the inputs to a Dataset.\n",
    "    dataset = tf.data.Dataset.from_tensor_slices((dict(features), labels))\n",
    "\n",
    "    # Shuffle and repeat if you are in training mode.\n",
    "    if training:\n",
    "        dataset = dataset.shuffle(1000).repeat()\n",
    "    \n",
    "    return dataset.batch(batch_size)"
   ]
  },
  {
   "cell_type": "markdown",
   "id": "78fe81b7",
   "metadata": {},
   "source": [
    "### Feature columns"
   ]
  },
  {
   "cell_type": "code",
   "execution_count": 11,
   "id": "68abb6b1",
   "metadata": {},
   "outputs": [
    {
     "name": "stdout",
     "output_type": "stream",
     "text": [
      "[NumericColumn(key='SepalLength', shape=(1,), default_value=None, dtype=tf.float32, normalizer_fn=None), NumericColumn(key='SepalWidth', shape=(1,), default_value=None, dtype=tf.float32, normalizer_fn=None), NumericColumn(key='PetalLength', shape=(1,), default_value=None, dtype=tf.float32, normalizer_fn=None), NumericColumn(key='PetalWidth', shape=(1,), default_value=None, dtype=tf.float32, normalizer_fn=None)]\n"
     ]
    }
   ],
   "source": [
    "# Feature columns describe how to use the input.\n",
    "my_feature_columns = []\n",
    "for key in train_x.keys():\n",
    "    my_feature_columns.append(tf.feature_column.numeric_column(key=key))\n",
    "print(my_feature_columns)"
   ]
  },
  {
   "cell_type": "markdown",
   "id": "3890d4fa",
   "metadata": {},
   "source": [
    "### Building the model"
   ]
  },
  {
   "cell_type": "code",
   "execution_count": 12,
   "id": "165c7d1e",
   "metadata": {},
   "outputs": [
    {
     "name": "stdout",
     "output_type": "stream",
     "text": [
      "INFO:tensorflow:Using default config.\n",
      "WARNING:tensorflow:Using temporary folder as model directory: /var/folders/bt/yzv722jd4ln6fj7873tf5mn00000gn/T/tmpbpvc908f\n",
      "INFO:tensorflow:Using config: {'_model_dir': '/var/folders/bt/yzv722jd4ln6fj7873tf5mn00000gn/T/tmpbpvc908f', '_tf_random_seed': None, '_save_summary_steps': 100, '_save_checkpoints_steps': None, '_save_checkpoints_secs': 600, '_session_config': allow_soft_placement: true\n",
      "graph_options {\n",
      "  rewrite_options {\n",
      "    meta_optimizer_iterations: ONE\n",
      "  }\n",
      "}\n",
      ", '_keep_checkpoint_max': 5, '_keep_checkpoint_every_n_hours': 10000, '_log_step_count_steps': 100, '_train_distribute': None, '_device_fn': None, '_protocol': None, '_eval_distribute': None, '_experimental_distribute': None, '_experimental_max_worker_delay_secs': None, '_session_creation_timeout_secs': 7200, '_checkpoint_save_graph_def': True, '_service': None, '_cluster_spec': ClusterSpec({}), '_task_type': 'worker', '_task_id': 0, '_global_id_in_cluster': 0, '_master': '', '_evaluation_master': '', '_is_chief': True, '_num_ps_replicas': 0, '_num_worker_replicas': 1}\n"
     ]
    }
   ],
   "source": [
    "# Build a DNN with 2 hidden layers with 30 and 10 hidden nodes each.\n",
    "classifier = tf.estimator.DNNClassifier(\n",
    "    feature_columns=my_feature_columns,\n",
    "    # Two hidden layers of 30 and 10 nodes respectively.\n",
    "    hidden_units=[30, 10],\n",
    "    # The model must choose between 3 classes.\n",
    "    n_classes=3)"
   ]
  },
  {
   "cell_type": "markdown",
   "id": "6e16086d",
   "metadata": {},
   "source": [
    "### Training the model"
   ]
  },
  {
   "cell_type": "code",
   "execution_count": 13,
   "id": "dbb98142",
   "metadata": {},
   "outputs": [
    {
     "name": "stdout",
     "output_type": "stream",
     "text": [
      "WARNING:tensorflow:From /Users/chandimajayamina/opt/anaconda3/envs/tensorflow/lib/python3.8/site-packages/tensorflow/python/training/training_util.py:396: Variable.initialized_value (from tensorflow.python.ops.variables) is deprecated and will be removed in a future version.\n",
      "Instructions for updating:\n",
      "Use Variable.read_value. Variables in 2.X are initialized automatically both in eager and graph (inside tf.defun) contexts.\n",
      "INFO:tensorflow:Calling model_fn.\n",
      "WARNING:tensorflow:From /Users/chandimajayamina/opt/anaconda3/envs/tensorflow/lib/python3.8/site-packages/keras/optimizers/optimizer_v2/adagrad.py:90: calling Constant.__init__ (from tensorflow.python.ops.init_ops) with dtype is deprecated and will be removed in a future version.\n",
      "Instructions for updating:\n",
      "Call initializer instance with the dtype argument instead of passing it to the constructor\n",
      "INFO:tensorflow:Done calling model_fn.\n",
      "INFO:tensorflow:Create CheckpointSaverHook.\n",
      "INFO:tensorflow:Graph was finalized.\n",
      "INFO:tensorflow:Running local_init_op.\n",
      "INFO:tensorflow:Done running local_init_op.\n"
     ]
    },
    {
     "name": "stderr",
     "output_type": "stream",
     "text": [
      "2022-12-15 07:25:04.125573: I tensorflow/compiler/mlir/mlir_graph_optimization_pass.cc:354] MLIR V1 optimization pass is not enabled\n",
      "2022-12-15 07:25:04.127786: W tensorflow/core/common_runtime/forward_type_inference.cc:332] Type inference failed. This indicates an invalid graph that escaped type checking. Error message: INVALID_ARGUMENT: expected compatible input types, but input 1:\n",
      "type_id: TFT_OPTIONAL\n",
      "args {\n",
      "  type_id: TFT_PRODUCT\n",
      "  args {\n",
      "    type_id: TFT_TENSOR\n",
      "    args {\n",
      "      type_id: TFT_INT64\n",
      "    }\n",
      "  }\n",
      "}\n",
      " is neither a subtype nor a supertype of the combined inputs preceding it:\n",
      "type_id: TFT_OPTIONAL\n",
      "args {\n",
      "  type_id: TFT_PRODUCT\n",
      "  args {\n",
      "    type_id: TFT_TENSOR\n",
      "    args {\n",
      "      type_id: TFT_INT32\n",
      "    }\n",
      "  }\n",
      "}\n",
      "\n",
      "\twhile inferring type of node 'dnn/zero_fraction/cond/output/_18'\n",
      "2022-12-15 07:25:04.129330: W tensorflow/core/platform/profile_utils/cpu_utils.cc:128] Failed to get CPU frequency: 0 Hz\n"
     ]
    },
    {
     "name": "stdout",
     "output_type": "stream",
     "text": [
      "INFO:tensorflow:Calling checkpoint listeners before saving checkpoint 0...\n",
      "INFO:tensorflow:Saving checkpoints for 0 into /var/folders/bt/yzv722jd4ln6fj7873tf5mn00000gn/T/tmpbpvc908f/model.ckpt.\n",
      "INFO:tensorflow:Calling checkpoint listeners after saving checkpoint 0...\n",
      "INFO:tensorflow:loss = 1.5356627, step = 0\n",
      "INFO:tensorflow:global_step/sec: 1348.6\n",
      "INFO:tensorflow:loss = 1.1662806, step = 100 (0.075 sec)\n",
      "INFO:tensorflow:global_step/sec: 2000.29\n",
      "INFO:tensorflow:loss = 1.0730447, step = 200 (0.050 sec)\n",
      "INFO:tensorflow:global_step/sec: 1936.7\n",
      "INFO:tensorflow:loss = 1.0503497, step = 300 (0.052 sec)\n",
      "INFO:tensorflow:global_step/sec: 1970.49\n",
      "INFO:tensorflow:loss = 1.0251755, step = 400 (0.051 sec)\n",
      "INFO:tensorflow:global_step/sec: 2067.82\n",
      "INFO:tensorflow:loss = 1.0231819, step = 500 (0.048 sec)\n",
      "INFO:tensorflow:global_step/sec: 2009.29\n",
      "INFO:tensorflow:loss = 1.0158362, step = 600 (0.050 sec)\n",
      "INFO:tensorflow:global_step/sec: 1956.34\n",
      "INFO:tensorflow:loss = 1.0067768, step = 700 (0.051 sec)\n",
      "INFO:tensorflow:global_step/sec: 2049.64\n",
      "INFO:tensorflow:loss = 1.0019705, step = 800 (0.049 sec)\n",
      "INFO:tensorflow:global_step/sec: 2024.75\n",
      "INFO:tensorflow:loss = 0.9965864, step = 900 (0.049 sec)\n",
      "INFO:tensorflow:global_step/sec: 2047.7\n",
      "INFO:tensorflow:loss = 0.98475564, step = 1000 (0.049 sec)\n",
      "INFO:tensorflow:global_step/sec: 2032.69\n",
      "INFO:tensorflow:loss = 0.9846973, step = 1100 (0.049 sec)\n",
      "INFO:tensorflow:global_step/sec: 2026.64\n",
      "INFO:tensorflow:loss = 0.97586644, step = 1200 (0.049 sec)\n",
      "INFO:tensorflow:global_step/sec: 1674.76\n",
      "INFO:tensorflow:loss = 0.97012824, step = 1300 (0.060 sec)\n",
      "INFO:tensorflow:global_step/sec: 1988.78\n",
      "INFO:tensorflow:loss = 0.96362805, step = 1400 (0.050 sec)\n",
      "INFO:tensorflow:global_step/sec: 1997.33\n",
      "INFO:tensorflow:loss = 0.95503855, step = 1500 (0.050 sec)\n",
      "INFO:tensorflow:global_step/sec: 1978.75\n",
      "INFO:tensorflow:loss = 0.9482522, step = 1600 (0.051 sec)\n",
      "INFO:tensorflow:global_step/sec: 1979.92\n",
      "INFO:tensorflow:loss = 0.9412359, step = 1700 (0.050 sec)\n",
      "INFO:tensorflow:global_step/sec: 1979.25\n",
      "INFO:tensorflow:loss = 0.9347914, step = 1800 (0.051 sec)\n",
      "INFO:tensorflow:global_step/sec: 1994.42\n",
      "INFO:tensorflow:loss = 0.91933525, step = 1900 (0.050 sec)\n",
      "INFO:tensorflow:global_step/sec: 1983.97\n",
      "INFO:tensorflow:loss = 0.9193764, step = 2000 (0.050 sec)\n",
      "INFO:tensorflow:global_step/sec: 2033.16\n",
      "INFO:tensorflow:loss = 0.9123241, step = 2100 (0.049 sec)\n",
      "INFO:tensorflow:global_step/sec: 2048.63\n",
      "INFO:tensorflow:loss = 0.9091635, step = 2200 (0.049 sec)\n",
      "INFO:tensorflow:global_step/sec: 2077.31\n",
      "INFO:tensorflow:loss = 0.90913427, step = 2300 (0.048 sec)\n",
      "INFO:tensorflow:global_step/sec: 2048.13\n",
      "INFO:tensorflow:loss = 0.89747906, step = 2400 (0.049 sec)\n",
      "INFO:tensorflow:global_step/sec: 2024.17\n",
      "INFO:tensorflow:loss = 0.8964766, step = 2500 (0.049 sec)\n",
      "INFO:tensorflow:global_step/sec: 2051.95\n",
      "INFO:tensorflow:loss = 0.8886242, step = 2600 (0.049 sec)\n",
      "INFO:tensorflow:global_step/sec: 1985.83\n",
      "INFO:tensorflow:loss = 0.8807951, step = 2700 (0.050 sec)\n",
      "INFO:tensorflow:global_step/sec: 2011.83\n",
      "INFO:tensorflow:loss = 0.8577843, step = 2800 (0.050 sec)\n",
      "INFO:tensorflow:global_step/sec: 2044.32\n",
      "INFO:tensorflow:loss = 0.8785397, step = 2900 (0.049 sec)\n",
      "INFO:tensorflow:global_step/sec: 2071.76\n",
      "INFO:tensorflow:loss = 0.8668747, step = 3000 (0.048 sec)\n",
      "INFO:tensorflow:global_step/sec: 2046.5\n",
      "INFO:tensorflow:loss = 0.85306454, step = 3100 (0.049 sec)\n",
      "INFO:tensorflow:global_step/sec: 2031.74\n",
      "INFO:tensorflow:loss = 0.85709125, step = 3200 (0.049 sec)\n",
      "INFO:tensorflow:global_step/sec: 1997.69\n",
      "INFO:tensorflow:loss = 0.84641576, step = 3300 (0.050 sec)\n",
      "INFO:tensorflow:global_step/sec: 2014.54\n",
      "INFO:tensorflow:loss = 0.8500355, step = 3400 (0.050 sec)\n",
      "INFO:tensorflow:global_step/sec: 2030.42\n",
      "INFO:tensorflow:loss = 0.83509254, step = 3500 (0.049 sec)\n",
      "INFO:tensorflow:global_step/sec: 2049.67\n",
      "INFO:tensorflow:loss = 0.8219917, step = 3600 (0.049 sec)\n",
      "INFO:tensorflow:global_step/sec: 1818.58\n",
      "INFO:tensorflow:loss = 0.81905407, step = 3700 (0.055 sec)\n",
      "INFO:tensorflow:global_step/sec: 1875.78\n",
      "INFO:tensorflow:loss = 0.81617033, step = 3800 (0.053 sec)\n",
      "INFO:tensorflow:global_step/sec: 2049.53\n",
      "INFO:tensorflow:loss = 0.81272626, step = 3900 (0.049 sec)\n",
      "INFO:tensorflow:global_step/sec: 2056.46\n",
      "INFO:tensorflow:loss = 0.8179226, step = 4000 (0.049 sec)\n",
      "INFO:tensorflow:global_step/sec: 2037.33\n",
      "INFO:tensorflow:loss = 0.79629636, step = 4100 (0.049 sec)\n",
      "INFO:tensorflow:global_step/sec: 2073.78\n",
      "INFO:tensorflow:loss = 0.79302144, step = 4200 (0.048 sec)\n",
      "INFO:tensorflow:global_step/sec: 2031.29\n",
      "INFO:tensorflow:loss = 0.7910068, step = 4300 (0.049 sec)\n",
      "INFO:tensorflow:global_step/sec: 2071.04\n",
      "INFO:tensorflow:loss = 0.7903818, step = 4400 (0.048 sec)\n",
      "INFO:tensorflow:global_step/sec: 2064.71\n",
      "INFO:tensorflow:loss = 0.7761447, step = 4500 (0.048 sec)\n",
      "INFO:tensorflow:global_step/sec: 2017.1\n",
      "INFO:tensorflow:loss = 0.76867163, step = 4600 (0.050 sec)\n",
      "INFO:tensorflow:global_step/sec: 2015.68\n",
      "INFO:tensorflow:loss = 0.78038365, step = 4700 (0.050 sec)\n",
      "INFO:tensorflow:global_step/sec: 2011.19\n",
      "INFO:tensorflow:loss = 0.7732078, step = 4800 (0.050 sec)\n",
      "INFO:tensorflow:global_step/sec: 2001.96\n",
      "INFO:tensorflow:loss = 0.7598291, step = 4900 (0.050 sec)\n",
      "INFO:tensorflow:Calling checkpoint listeners before saving checkpoint 5000...\n",
      "INFO:tensorflow:Saving checkpoints for 5000 into /var/folders/bt/yzv722jd4ln6fj7873tf5mn00000gn/T/tmpbpvc908f/model.ckpt.\n",
      "INFO:tensorflow:Calling checkpoint listeners after saving checkpoint 5000...\n",
      "INFO:tensorflow:Loss for final step: 0.7722894.\n"
     ]
    },
    {
     "data": {
      "text/plain": [
       "<tensorflow_estimator.python.estimator.canned.dnn.DNNClassifierV2 at 0x1621e8fd0>"
      ]
     },
     "execution_count": 13,
     "metadata": {},
     "output_type": "execute_result"
    }
   ],
   "source": [
    "classifier.train(\n",
    "    input_fn=lambda: input_fn(train_x, train_y, training=True),\n",
    "    steps=5000)\n",
    "# We include a lambda to avoid creating an inner function previously"
   ]
  },
  {
   "cell_type": "markdown",
   "id": "b45dee34",
   "metadata": {},
   "source": [
    "### Evaluating the model"
   ]
  },
  {
   "cell_type": "code",
   "execution_count": 15,
   "id": "e5ea410c",
   "metadata": {},
   "outputs": [
    {
     "name": "stdout",
     "output_type": "stream",
     "text": [
      "INFO:tensorflow:Calling model_fn.\n",
      "INFO:tensorflow:Done calling model_fn.\n",
      "INFO:tensorflow:Starting evaluation at 2022-12-15T07:26:01\n",
      "INFO:tensorflow:Graph was finalized.\n",
      "INFO:tensorflow:Restoring parameters from /var/folders/bt/yzv722jd4ln6fj7873tf5mn00000gn/T/tmpbpvc908f/model.ckpt-5000\n",
      "INFO:tensorflow:Running local_init_op.\n",
      "INFO:tensorflow:Done running local_init_op.\n",
      "INFO:tensorflow:Inference Time : 0.08758s\n",
      "INFO:tensorflow:Finished evaluation at 2022-12-15-07:26:01\n",
      "INFO:tensorflow:Saving dict for global step 5000: accuracy = 0.93333334, average_loss = 0.8149567, global_step = 5000, loss = 0.8149567\n",
      "INFO:tensorflow:Saving 'checkpoint_path' summary for global step 5000: /var/folders/bt/yzv722jd4ln6fj7873tf5mn00000gn/T/tmpbpvc908f/model.ckpt-5000\n",
      "\n",
      "Test set accuracy: 0.933\n",
      "\n"
     ]
    }
   ],
   "source": [
    "eval_result = classifier.evaluate(\n",
    "    input_fn=lambda: input_fn(test_x, test_y, training=False))\n",
    "\n",
    "print('\\nTest set accuracy: {accuracy:0.3f}\\n'.format(**eval_result))"
   ]
  },
  {
   "cell_type": "markdown",
   "id": "592a1209",
   "metadata": {},
   "source": [
    "### Prediction"
   ]
  },
  {
   "cell_type": "code",
   "execution_count": null,
   "id": "28a0041d",
   "metadata": {},
   "outputs": [],
   "source": [
    "def input_fn(features, batch_size=256):\n",
    "    # Convert the inputs to a Dataset without labels.\n",
    "    return tf.data.Dataset.from_tensor_slices(dict(features)).batch(batch_size)\n",
    "\n",
    "features = ['SepalLength', 'SepalWidth', 'PetalLength', 'PetalWidth']\n",
    "predict = {}\n",
    "\n",
    "print(\"Please type numeric values as prompted.\")\n",
    "for feature in features:\n",
    "  valid = True\n",
    "  while valid: \n",
    "    val = input(feature + \": \")\n",
    "    if not val.isdigit(): valid = False\n",
    "\n",
    "  predict[feature] = [float(val)]\n",
    "\n",
    "predictions = classifier.predict(input_fn=lambda: input_fn(predict))\n",
    "for pred_dict in predictions:\n",
    "    class_id = pred_dict['class_ids'][0]\n",
    "    probability = pred_dict['probabilities'][class_id]\n",
    "\n",
    "    print('Prediction is \"{}\" ({:.1f}%)'.format(\n",
    "        SPECIES[class_id], 100 * probability))\n"
   ]
  },
  {
   "cell_type": "code",
   "execution_count": null,
   "id": "af953270",
   "metadata": {},
   "outputs": [],
   "source": []
  }
 ],
 "metadata": {
  "kernelspec": {
   "display_name": "Python 3 (ipykernel)",
   "language": "python",
   "name": "python3"
  },
  "language_info": {
   "codemirror_mode": {
    "name": "ipython",
    "version": 3
   },
   "file_extension": ".py",
   "mimetype": "text/x-python",
   "name": "python",
   "nbconvert_exporter": "python",
   "pygments_lexer": "ipython3",
   "version": "3.8.15"
  }
 },
 "nbformat": 4,
 "nbformat_minor": 5
}
